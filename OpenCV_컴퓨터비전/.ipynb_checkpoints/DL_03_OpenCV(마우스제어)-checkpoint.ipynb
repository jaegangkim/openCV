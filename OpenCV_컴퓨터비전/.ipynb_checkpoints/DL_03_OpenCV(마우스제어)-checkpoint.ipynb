{
 "cells": [
  {
   "cell_type": "markdown",
   "metadata": {},
   "source": [
    "### "
   ]
  },
  {
   "cell_type": "code",
   "execution_count": 1,
   "metadata": {},
   "outputs": [],
   "source": [
    "import numpy as np\n",
    "import cv2\n",
    "from random import shuffle"
   ]
  },
  {
   "cell_type": "code",
   "execution_count": 4,
   "metadata": {},
   "outputs": [],
   "source": [
    "b = [i for i in range(256)]\n",
    "g = [i for i in range(256)]\n",
    "r = [i for i in range(256)]"
   ]
  },
  {
   "cell_type": "code",
   "execution_count": 18,
   "metadata": {},
   "outputs": [],
   "source": [
    "def onMouse(event, x, y, flags, param):\n",
    "    if event == cv2.EVENT_LBUTTONDBLCLK: # or MOUSEMOVE\n",
    "        # 색을 셔플시키고\n",
    "        shuffle(b), shuffle(g), shuffle(r)\n",
    "        # 해당되는 마우스 위치에 원이 그려지게 구현\n",
    "        cv2.circle(param,(x,y), 60,(b[0], g[0], r[0]),-1 ) \n",
    "\n",
    "b = [i for i in range(200, 256)]   \n",
    "g = [i for i in range(200, 256)]  \n",
    "r = [i for i in range(200, 256)]  \n",
    "\n",
    "img = np.zeros((512,512,3), np.uint8) \n",
    "\n",
    "cv2.namedWindow('figure') # 창 생성\n",
    "cv2.setMouseCallback('figure', onMouse, param=img)\n",
    "# 이벤트가 발생 할 때 매개변수에 전달된 함수를 호출\n",
    "\n",
    "while True:\n",
    "    cv2.imshow('figure', img)\n",
    "    k = cv2.waitKey(10)\n",
    "    \n",
    "    if k==49:\n",
    "        cv2.destroyAllWindows()\n",
    "        break"
   ]
  },
  {
   "cell_type": "markdown",
   "metadata": {},
   "source": [
    "- event : 윈도우에서 발생하는 이벤트\n",
    "- x , y : 마우스 좌표 \n",
    "- flags : 특수한 상태를 확인하는 용도 \n",
    "- param : 마우스 콜백 설정 함수에서 함께 전달되는 데이터\n",
    "\n",
    "마우스 콜백함수 : 마우스 이벤트가 발생했을 때, 전달할 함수 \n"
   ]
  },
  {
   "cell_type": "markdown",
   "metadata": {},
   "source": [
    "### 1 사각형 그리기"
   ]
  },
  {
   "cell_type": "code",
   "execution_count": 27,
   "metadata": {},
   "outputs": [
    {
     "name": "stdout",
     "output_type": "stream",
     "text": [
      "사각형 좌상단 좌표 169 227\n",
      "사각형 우하단 좌표 168 227\n",
      "사각형 좌상단 좌표 190 176\n",
      "사각형 우하단 좌표 190 176\n",
      "사각형 좌상단 좌표 295 169\n",
      "사각형 우하단 좌표 367 282\n",
      "사각형 좌상단 좌표 283 248\n",
      "사각형 우하단 좌표 282 247\n",
      "사각형 좌상단 좌표 173 181\n",
      "사각형 우하단 좌표 172 181\n",
      "사각형 좌상단 좌표 158 299\n",
      "사각형 우하단 좌표 158 299\n",
      "사각형 좌상단 좌표 219 323\n",
      "사각형 우하단 좌표 219 323\n",
      "사각형 우하단 좌표 218 322\n",
      "사각형 좌상단 좌표 127 213\n",
      "사각형 우하단 좌표 439 505\n",
      "사각형 좌상단 좌표 106 124\n",
      "사각형 우하단 좌표 309 316\n",
      "사각형 좌상단 좌표 411 96\n",
      "사각형 우하단 좌표 112 280\n",
      "사각형 좌상단 좌표 247 98\n",
      "사각형 우하단 좌표 247 98\n",
      "사각형 좌상단 좌표 373 78\n",
      "사각형 우하단 좌표 205 215\n",
      "사각형 좌상단 좌표 139 160\n",
      "사각형 우하단 좌표 367 251\n",
      "사각형 좌상단 좌표 410 349\n",
      "사각형 우하단 좌표 149 421\n",
      "사각형 좌상단 좌표 296 211\n",
      "사각형 우하단 좌표 47 277\n",
      "사각형 좌상단 좌표 286 2\n",
      "사각형 우하단 좌표 121 13\n"
     ]
    }
   ],
   "source": [
    "import numpy as np\n",
    "import cv2\n",
    "from random import shuffle\n",
    "\n",
    "x1, y1 = -1, -1\n",
    "\n",
    "def rectangle(event, x, y, flags, param) :\n",
    "    global x1, y1 # 위에 생성된 전역변수로 사용하겠다\n",
    "    \n",
    "    if event == cv2.EVENT_LBUTTONDOWN : #마우스 좌클릭 누른상태\n",
    "        x1, y1 = x, y\n",
    "        print('사각형 좌상단 좌표', x1, y1)\n",
    "        \n",
    "    elif event == cv2.EVENT_LBUTTONUP : # 마우스 좌클릭 뗀 상태\n",
    "        cv2.rectangle(param,(x1, y1), (x,y), (0,255,0),3)\n",
    "        print('사각형 우하단 좌표', x,y)\n",
    "\n",
    "img = np.zeros((512,512,3), np.uint8)\n",
    "\n",
    "cv2.namedWindow('figure') # 창 생성\n",
    "cv2.setMouseCallback('figure', rectangle, param = img)\n",
    "# 이벤트가 발생할 때 매개변수에 전달된 함수를 호출 \n",
    "\n",
    "while True :\n",
    "    cv2.imshow('figure', img)\n",
    "    k = cv2.waitKey(10)\n",
    "    \n",
    "    if k==49 :\n",
    "        cv2.destroyAllWindows()\n",
    "        break\n"
   ]
  },
  {
   "cell_type": "code",
   "execution_count": 31,
   "metadata": {},
   "outputs": [],
   "source": [
    "size = 3\n",
    "def mouse_event(event, x, y, flags, param) : \n",
    "    global size\n",
    "    \n",
    "    if event == cv2.EVENT_FLAG_LBUTTON: # 좌클릭\n",
    "        cv2.circle(param,(x, y), size, (255,0,0),2)\n",
    "        \n",
    "    elif event == cv2.EVENT_MOUSEHWHEEL : \n",
    "        if flags > 0 :\n",
    "            size += 1\n",
    "        elif size >= 1 :\n",
    "            size -= 1\n",
    "            \n",
    "img = np.zeros((512,512,3), np.uint8)\n",
    "\n",
    "cv2.namedWindow('figure') # 창 생성\n",
    "cv2.setMouseCallback('figure', mouse_event, param = img)\n",
    "# 이벤트가 발생할 때 매개변수에 전달된 함수를 호출 \n",
    "\n",
    "while True :\n",
    "    cv2.imshow('figure', img)\n",
    "    k = cv2.waitKey(10)\n",
    "    \n",
    "    if k==49 :\n",
    "        cv2.destroyAllWindows()\n",
    "        break            \n"
   ]
  },
  {
   "cell_type": "code",
   "execution_count": 37,
   "metadata": {},
   "outputs": [
    {
     "name": "stdout",
     "output_type": "stream",
     "text": [
      "사각형 좌상단 좌표 143 75\n",
      "사각형 우하단 좌표 488 268\n",
      "사각형 좌상단 좌표 58 25\n",
      "사각형 우하단 좌표 552 348\n",
      "사각형 좌상단 좌표 131 42\n",
      "사각형 우하단 좌표 455 234\n",
      "사각형 좌상단 좌표 135 90\n",
      "사각형 우하단 좌표 358 214\n",
      "사각형 좌상단 좌표 108 140\n",
      "사각형 우하단 좌표 269 270\n",
      "사각형 좌상단 좌표 119 228\n",
      "사각형 우하단 좌표 279 337\n",
      "사각형 좌상단 좌표 378 209\n",
      "사각형 우하단 좌표 478 296\n",
      "사각형 좌상단 좌표 352 112\n",
      "사각형 우하단 좌표 498 167\n",
      "사각형 좌상단 좌표 376 60\n",
      "사각형 우하단 좌표 530 111\n"
     ]
    }
   ],
   "source": [
    "import numpy as np\n",
    "import cv2\n",
    "\n",
    "x1, y1 = -1, -1\n",
    "cnt = 0\n",
    "\n",
    "def rectangle(event, x, y, flags, param) :\n",
    "    global x1, y1, cnt # 위에 생성된 전역변수로 사용하겠다\n",
    "    \n",
    "    if event == cv2.EVENT_LBUTTONDOWN : #마우스 좌클릭 누른상태\n",
    "        x1, y1 = x, y\n",
    "        print('사각형 좌상단 좌표', x1, y1)\n",
    "        \n",
    "    elif event == cv2.EVENT_LBUTTONUP : # 마우스 좌클릭 뗀 상태\n",
    "        cv2.rectangle(param,(x1, y1), (x,y), (0,255,0),3)\n",
    "        print('사각형 우하단 좌표', x,y)\n",
    "        cv2.imshow('figure', param)\n",
    "        \n",
    "        f_param = param[y1:y, x1:x]\n",
    "        cv2.imwrite(f'./cap/{cnt}.png', )\n",
    "        cnt+=1\n",
    "\n",
    "try :\n",
    "    cap = cv2.VideoCapture('./images/video.mp4')\n",
    "except :\n",
    "    print('카메라 구동 실패')\n",
    "    \n",
    "cap.set(3,480)\n",
    "cap.set(4,320)\n",
    "\n",
    "while True :\n",
    "    ret,frame = cap.read()\n",
    "    \n",
    "    \n",
    "    cv2.imshow('figure', frame)\n",
    "    k = cv2.waitKey(30)\n",
    "    \n",
    "    if k == 50 :\n",
    "        cv2.namedWindow('figure') # 창 생성\n",
    "        cv2.setMouseCallback('figure', rectangle, param = frame)\n",
    "        cv2.waitKey(0)\n",
    "        # 이벤트가 발생할 때 매개변수에 전달된 함수를 호출 \n",
    "    \n",
    "    if k == 49 :\n",
    "        cap.release() # 영상 종료 코드\n",
    "        cv2.destroyAllWindows()\n",
    "        break"
   ]
  },
  {
   "cell_type": "code",
   "execution_count": null,
   "metadata": {},
   "outputs": [],
   "source": [
    "cv2.namedWindow('figure') # 창 생성\n",
    "cv2.setMouseCallback('figure', rectangle, param = img)\n",
    "# 이벤트가 발생할 때 매개변수에 전달된 함수를 호출 "
   ]
  },
  {
   "cell_type": "code",
   "execution_count": null,
   "metadata": {},
   "outputs": [],
   "source": []
  },
  {
   "cell_type": "code",
   "execution_count": null,
   "metadata": {},
   "outputs": [],
   "source": []
  },
  {
   "cell_type": "code",
   "execution_count": null,
   "metadata": {},
   "outputs": [],
   "source": []
  }
 ],
 "metadata": {
  "kernelspec": {
   "display_name": "Python 3.9.12 ('base')",
   "language": "python",
   "name": "python3"
  },
  "language_info": {
   "codemirror_mode": {
    "name": "ipython",
    "version": 3
   },
   "file_extension": ".py",
   "mimetype": "text/x-python",
   "name": "python",
   "nbconvert_exporter": "python",
   "pygments_lexer": "ipython3",
   "version": "3.9.12"
  },
  "vscode": {
   "interpreter": {
    "hash": "e5c97d490e046870ac695e7411483035842eaa1663fc7ecbdfff1245291c4c7c"
   }
  }
 },
 "nbformat": 4,
 "nbformat_minor": 2
}
