{
 "cells": [
  {
   "cell_type": "markdown",
   "id": "805a2560",
   "metadata": {},
   "source": [
    "### 영상 출력하기"
   ]
  },
  {
   "cell_type": "code",
   "execution_count": 4,
   "id": "c29a70df",
   "metadata": {
    "collapsed": true
   },
   "outputs": [
    {
     "name": "stdout",
     "output_type": "stream",
     "text": [
      "카메라 구동..매\n"
     ]
    },
    {
     "ename": "error",
     "evalue": "OpenCV(4.6.0) D:\\a\\opencv-python\\opencv-python\\opencv\\modules\\highgui\\src\\window.cpp:967: error: (-215:Assertion failed) size.width>0 && size.height>0 in function 'cv::imshow'\n",
     "output_type": "error",
     "traceback": [
      "\u001b[1;31m---------------------------------------------------------------------------\u001b[0m",
      "\u001b[1;31merror\u001b[0m                                     Traceback (most recent call last)",
      "Input \u001b[1;32mIn [4]\u001b[0m, in \u001b[0;36m<cell line: 13>\u001b[1;34m()\u001b[0m\n\u001b[0;32m     12\u001b[0m \u001b[38;5;28;01mwhile\u001b[39;00m \u001b[38;5;28;01mTrue\u001b[39;00m:\n\u001b[0;32m     13\u001b[0m     ret, frame \u001b[38;5;241m=\u001b[39m cap\u001b[38;5;241m.\u001b[39mread() \u001b[38;5;66;03m# 성공하면 ret에 true, frame에 뭐.. 네\u001b[39;00m\n\u001b[1;32m---> 15\u001b[0m     \u001b[43mcv2\u001b[49m\u001b[38;5;241;43m.\u001b[39;49m\u001b[43mimshow\u001b[49m\u001b[43m(\u001b[49m\u001b[38;5;124;43m'\u001b[39;49m\u001b[38;5;124;43mvideo\u001b[39;49m\u001b[38;5;124;43m'\u001b[39;49m\u001b[43m,\u001b[49m\u001b[43m \u001b[49m\u001b[43mframe\u001b[49m\u001b[43m)\u001b[49m\n\u001b[0;32m     16\u001b[0m     k \u001b[38;5;241m=\u001b[39m cv2\u001b[38;5;241m.\u001b[39mwaitKey(\u001b[38;5;241m30\u001b[39m) \u001b[38;5;66;03m# 1000 <=> 1초 / 빠르게 여러장을 넘기면서 영상처럼 보이게 해야되니까\u001b[39;00m\n\u001b[0;32m     18\u001b[0m     \u001b[38;5;28;01mif\u001b[39;00m k \u001b[38;5;241m==\u001b[39m \u001b[38;5;241m49\u001b[39m:    \u001b[38;5;66;03m# 아스키코드 49 <=> 숫자 1\u001b[39;00m\n",
      "\u001b[1;31merror\u001b[0m: OpenCV(4.6.0) D:\\a\\opencv-python\\opencv-python\\opencv\\modules\\highgui\\src\\window.cpp:967: error: (-215:Assertion failed) size.width>0 && size.height>0 in function 'cv::imshow'\n"
     ]
    }
   ],
   "source": [
    "import cv2\n",
    "\n",
    "try:\n",
    "    print('카메라 구동..매')\n",
    "    cap = cv2.VideoCapture('./image/video.mp4') # 0 입력 시 : 0번카메라로부터 비디오캡쳐 ( 내 캠 )\n",
    "except:\n",
    "    print('카메라 구동 실패')\n",
    "\n",
    "cap.set(3,480) # 3:가로길이\n",
    "cap.set(4,320) # 4:세로길이\n",
    "\n",
    "while True:\n",
    "    ret, frame = cap.read() # 성공하면 ret에 true, frame에 뭐.. 네\n",
    "    \n",
    "    cv2.imshow('video', frame)\n",
    "    k = cv2.waitKey(30) # 1000 <=> 1초 / 빠르게 여러장을 넘기면서 영상처럼 보이게 해야되니까\n",
    "    \n",
    "    if k == 49:    # 아스키코드 49 <=> 숫자 1\n",
    "        cap.release()\n",
    "        cv2.destroyAllWindows()\n",
    "        break"
   ]
  },
  {
   "cell_type": "markdown",
   "id": "c193e17a",
   "metadata": {},
   "source": [
    "### 녹화 하기"
   ]
  },
  {
   "cell_type": "code",
   "execution_count": 1,
   "id": "99ccbdc9",
   "metadata": {},
   "outputs": [
    {
     "name": "stdout",
     "output_type": "stream",
     "text": [
      "카메라 구동..매\n"
     ]
    }
   ],
   "source": [
    "import cv2\n",
    "\n",
    "try:\n",
    "    print('카메라 구동..매')\n",
    "    cap = cv2.VideoCapture('./image/video.mp4') # 0 입력 시 : 0번카메라로부터 비디오캡쳐 ( 내 캠 )\n",
    "except:\n",
    "    print('카메라 구동 실패')\n",
    "\n",
    "cap.set(3,480) # 3:가로길이\n",
    "cap.set(4,320) # 4:세로길이\n",
    "\n",
    "# 여기 추가~~~ 랑 if문 추가~~\n",
    "fps = 30.0\n",
    "width = int(cap.get(3))\n",
    "height = int(cap.get(4))\n",
    "fcc = cv2.VideoWriter_fourcc(*'MPEG') # 코덱 ?\n",
    "record = False\n",
    "# 녹화장비\n",
    "out = cv2.VideoWriter('video01.mp4', fcc,fps,(width,height))\n",
    "\n",
    "# ------------------------------------------\n",
    "\n",
    "while True:\n",
    "    ret, frame = cap.read() # 성공하면 ret에 true, frame에 뭐.. 네\n",
    "    \n",
    "    cv2.imshow('video', frame)\n",
    "    k = cv2.waitKey(30) # 1000 <=> 1초 / 빠르게 여러장을 넘기면서 영상처럼 보이게 해야되니까\n",
    "    \n",
    "    if record:\n",
    "        out.write(frame)  # 녹화 \n",
    "    \n",
    "    if k == 50:    # 숫자 2\n",
    "        record = True\n",
    "        \n",
    "    if k == 49:    # 아스키코드 49 <=> 숫자 1\n",
    "        cap.release() # 비디오 종료\n",
    "        out.release() # 녹화 종료\n",
    "        cv2.destroyAllWindows()\n",
    "        break"
   ]
  },
  {
   "cell_type": "markdown",
   "id": "45d8df58",
   "metadata": {},
   "source": [
    "### 이미지 캡쳐하기"
   ]
  },
  {
   "cell_type": "code",
   "execution_count": 3,
   "id": "2acd5e03",
   "metadata": {},
   "outputs": [
    {
     "name": "stdout",
     "output_type": "stream",
     "text": [
      "카메라 구동..매\n"
     ]
    }
   ],
   "source": [
    "import cv2\n",
    "\n",
    "try:\n",
    "    print('카메라 구동..매')\n",
    "    cap = cv2.VideoCapture('./image/video.mp4') # 0 입력 시 : 0번카메라로부터 비디오캡쳐 ( 내 캠 )\n",
    "except:\n",
    "    print('카메라 구동 실패')\n",
    "\n",
    "cap.set(3,480) # 3:가로길이\n",
    "cap.set(4,320) # 4:세로길이\n",
    "\n",
    "cnt = 0 \n",
    "\n",
    "while True:\n",
    "    ret, frame = cap.read() # 성공하면 ret에 true, frame에 뭐.. 네\n",
    "    \n",
    "    cv2.imshow('video', frame)\n",
    "    k = cv2.waitKey(30) # 1000 <=> 1초 / 빠르게 여러장을 넘기면서 영상처럼 보이게 해야되니까\n",
    "    \n",
    "    if k == 50 :\n",
    "        cv2.imwrite(f'img{cnt}.png', frame,\n",
    "                    params = [cv2.IMWRITE_PNG_COMPRESSION,7]) # png확장자로 저장하기\n",
    "        cnt+=1\n",
    "    \n",
    "    if k == 49:    # 아스키코드 49 <=> 숫자 1\n",
    "        cap.release()\n",
    "        cv2.destroyAllWindows()\n",
    "        break"
   ]
  },
  {
   "cell_type": "markdown",
   "id": "b96a62b2",
   "metadata": {},
   "source": [
    "params 리스트 안에 \n",
    "- png 확장자로 저장\n",
    "    - cv2.IMWRITE_PNG_COMPRESSION\n",
    "    - 압축률 0~9까지 설정가능 ( 0은 압축x)\n",
    "- jpg는 \n",
    "    - cv2.IMWRITE_JPEG_QUALITY\n",
    "    - 이미지 품질 설정 0~100 "
   ]
  },
  {
   "cell_type": "code",
   "execution_count": null,
   "id": "00e4f171",
   "metadata": {},
   "outputs": [],
   "source": []
  }
 ],
 "metadata": {
  "kernelspec": {
   "display_name": "Python 3 (ipykernel)",
   "language": "python",
   "name": "python3"
  },
  "language_info": {
   "codemirror_mode": {
    "name": "ipython",
    "version": 3
   },
   "file_extension": ".py",
   "mimetype": "text/x-python",
   "name": "python",
   "nbconvert_exporter": "python",
   "pygments_lexer": "ipython3",
   "version": "3.9.12"
  },
  "toc": {
   "base_numbering": 1,
   "nav_menu": {},
   "number_sections": true,
   "sideBar": true,
   "skip_h1_title": false,
   "title_cell": "Table of Contents",
   "title_sidebar": "Contents",
   "toc_cell": false,
   "toc_position": {},
   "toc_section_display": true,
   "toc_window_display": false
  }
 },
 "nbformat": 4,
 "nbformat_minor": 5
}
