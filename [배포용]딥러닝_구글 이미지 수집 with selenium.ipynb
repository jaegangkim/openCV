{
 "cells": [
  {
   "cell_type": "code",
   "execution_count": 2,
   "metadata": {
    "collapsed": true
   },
   "outputs": [
    {
     "name": "stdout",
     "output_type": "stream",
     "text": [
      "Collecting selenium\n",
      "  Downloading selenium-4.3.0-py3-none-any.whl (981 kB)\n",
      "Collecting urllib3[secure,socks]~=1.26\n",
      "  Downloading urllib3-1.26.10-py2.py3-none-any.whl (139 kB)\n",
      "Collecting trio~=0.17\n",
      "  Downloading trio-0.21.0-py3-none-any.whl (358 kB)\n",
      "Collecting trio-websocket~=0.9\n",
      "  Downloading trio_websocket-0.9.2-py3-none-any.whl (16 kB)\n",
      "Requirement already satisfied: certifi; extra == \"secure\" in c:\\users\\choi\\anaconda3\\lib\\site-packages (from urllib3[secure,socks]~=1.26->selenium) (2020.6.20)\n",
      "Requirement already satisfied: cryptography>=1.3.4; extra == \"secure\" in c:\\users\\choi\\anaconda3\\lib\\site-packages (from urllib3[secure,socks]~=1.26->selenium) (3.1.1)\n",
      "Requirement already satisfied: idna>=2.0.0; extra == \"secure\" in c:\\users\\choi\\anaconda3\\lib\\site-packages (from urllib3[secure,socks]~=1.26->selenium) (2.10)\n",
      "Requirement already satisfied: pyOpenSSL>=0.14; extra == \"secure\" in c:\\users\\choi\\anaconda3\\lib\\site-packages (from urllib3[secure,socks]~=1.26->selenium) (19.1.0)\n",
      "Requirement already satisfied: PySocks!=1.5.7,<2.0,>=1.5.6; extra == \"socks\" in c:\\users\\choi\\anaconda3\\lib\\site-packages (from urllib3[secure,socks]~=1.26->selenium) (1.7.1)\n",
      "Collecting outcome\n",
      "  Downloading outcome-1.2.0-py2.py3-none-any.whl (9.7 kB)\n",
      "Collecting sniffio\n",
      "  Downloading sniffio-1.2.0-py3-none-any.whl (10 kB)"
     ]
    },
    {
     "name": "stderr",
     "output_type": "stream",
     "text": [
      "ERROR: After October 2020 you may experience errors when installing or updating packages. This is because pip will change the way that it resolves dependency conflicts.\n",
      "\n",
      "We recommend you use --use-feature=2020-resolver to test your packages with the new resolver before it becomes the default.\n",
      "\n",
      "conda 4.13.0 requires ruamel_yaml_conda>=0.11.14, which is not installed.\n",
      "conda-repo-cli 1.0.3 requires pathlib, which is not installed.\n",
      "requests 2.24.0 requires urllib3!=1.25.0,!=1.25.1,<1.26,>=1.21.1, but you'll have urllib3 1.26.10 which is incompatible.\n"
     ]
    },
    {
     "name": "stdout",
     "output_type": "stream",
     "text": [
      "\n",
      "Requirement already satisfied: sortedcontainers in c:\\users\\choi\\anaconda3\\lib\\site-packages (from trio~=0.17->selenium) (2.2.2)\n",
      "Requirement already satisfied: async-generator>=1.9 in c:\\users\\choi\\anaconda3\\lib\\site-packages (from trio~=0.17->selenium) (1.10)\n",
      "Requirement already satisfied: cffi>=1.14; os_name == \"nt\" and implementation_name != \"pypy\" in c:\\users\\choi\\anaconda3\\lib\\site-packages (from trio~=0.17->selenium) (1.14.3)\n",
      "Requirement already satisfied: attrs>=19.2.0 in c:\\users\\choi\\anaconda3\\lib\\site-packages (from trio~=0.17->selenium) (20.3.0)\n",
      "Collecting wsproto>=0.14\n",
      "  Downloading wsproto-1.1.0-py3-none-any.whl (24 kB)\n",
      "Requirement already satisfied: six>=1.4.1 in c:\\users\\choi\\anaconda3\\lib\\site-packages (from cryptography>=1.3.4; extra == \"secure\"->urllib3[secure,socks]~=1.26->selenium) (1.15.0)\n",
      "Requirement already satisfied: pycparser in c:\\users\\choi\\anaconda3\\lib\\site-packages (from cffi>=1.14; os_name == \"nt\" and implementation_name != \"pypy\"->trio~=0.17->selenium) (2.20)\n",
      "Collecting h11<1,>=0.9.0\n",
      "  Downloading h11-0.13.0-py3-none-any.whl (58 kB)\n",
      "Installing collected packages: urllib3, outcome, sniffio, trio, h11, wsproto, trio-websocket, selenium\n",
      "  Attempting uninstall: urllib3\n",
      "    Found existing installation: urllib3 1.25.11\n",
      "    Uninstalling urllib3-1.25.11:\n",
      "      Successfully uninstalled urllib3-1.25.11\n",
      "Successfully installed h11-0.13.0 outcome-1.2.0 selenium-4.3.0 sniffio-1.2.0 trio-0.21.0 trio-websocket-0.9.2 urllib3-1.26.10 wsproto-1.1.0\n"
     ]
    }
   ],
   "source": [
    "# !pip install selenium"
   ]
  },
  {
   "cell_type": "code",
   "execution_count": 1,
   "metadata": {
    "id": "uOMKjBqr3ClP"
   },
   "outputs": [],
   "source": [
    "from selenium import webdriver as wb # 브라우저를 조작하는 도구\n",
    "from selenium.webdriver.common.keys import Keys # 키 입력을 도와주는 도구(키보드)\n",
    "from bs4 import BeautifulSoup as bs # 문서를 파싱해서 선택자 활용을 도와주는 도구\n",
    "from tqdm import tqdm # 반복문 진행 정도를 시각화해주는 도구\n",
    "from urllib.request import urlretrieve # 이미지 다운로드를 도와주는 도구\n",
    "import time # 시간제어 도구\n",
    "import os # 폴더 생성,삭제,이동 등을 도와주는 도구"
   ]
  },
  {
   "cell_type": "code",
   "execution_count": 9,
   "metadata": {
    "id": "Bds40KZtOMod"
   },
   "outputs": [],
   "source": [
    "keyword = \"햄스터\""
   ]
  },
  {
   "cell_type": "code",
   "execution_count": 10,
   "metadata": {
    "id": "_nB1Eunx3ClR"
   },
   "outputs": [],
   "source": [
    "# 이미지가 저장될 폴더 생성\n",
    "# 해당 폴더가 있는지 확인\n",
    "if os.path.isdir('./{}'.format(keyword)) == False :\n",
    "    os.mkdir('./{}'.format(keyword)) # 폴더 생성"
   ]
  },
  {
   "cell_type": "code",
   "execution_count": 11,
   "metadata": {
    "collapsed": true,
    "id": "5r62pE-I3ClR",
    "outputId": "802faf85-33a0-4fcb-ebd1-76fa01ec45f3"
   },
   "outputs": [
    {
     "name": "stderr",
     "output_type": "stream",
     "text": [
      "100%|██████████████████████████████████████████████████████████████████████████████████| 50/50 [00:10<00:00,  4.96it/s]\n",
      "100%|████████████████████████████████████████████████████████████████████████████████| 350/350 [02:02<00:00,  2.85it/s]\n",
      "0it [00:00, ?it/s]\n",
      "0it [00:00, ?it/s]\n",
      "0it [00:00, ?it/s]\n",
      "0it [00:00, ?it/s]\n",
      "0it [00:00, ?it/s]\n",
      "0it [00:00, ?it/s]\n",
      "0it [00:00, ?it/s]\n",
      "0it [00:00, ?it/s]\n"
     ]
    }
   ],
   "source": [
    "url = 'https://www.google.com/search?q={}&source=lnms&tbm=isch&sa=X&ved=2ahUKEwjs85-GsN7vAhX4xYsBHR6aBg0Q_AUoAXoECAEQAw&biw=1745&bih=852'.format(keyword)\n",
    "\n",
    "driver = wb.Chrome() # 브라우져 생성\n",
    "driver.get(url) # url 요청\n",
    "time.sleep(5) # 페이지 로딩까지 5초 대기\n",
    "\n",
    "cnt = 0\n",
    "pre_img_src = [] # 이전에 다운로드된 경로\n",
    "\n",
    "for j in range(10) :\n",
    "    img_html = bs(driver.page_source,'html.parser')\n",
    "\n",
    "    # 이미지 태그 수집\n",
    "    images = img_html.select('img.rg_i.Q4LuWd')\n",
    "\n",
    "    # 이미지 태그의 src 속성 값 추출\n",
    "    img_src = []\n",
    "    for img in images :\n",
    "        src = img.get('src')\n",
    "        if src != None : # img 태그에 src 속성이 없는 경우\n",
    "            if src not in pre_img_src : # 이전에 다운로드한 경로에 있는지 검사\n",
    "                img_src.append(src)\n",
    "        else : # img 태그에 src 속성이 있는 경우\n",
    "            src = img.get('data-src')\n",
    "            if src not in pre_img_src :\n",
    "                img_src.append(src)\n",
    "\n",
    "    # 파일 다운로드\n",
    "    # img_src를 반복문으로 돌면서 저장, tqdm 사용\n",
    "    for src in tqdm(img_src) :\n",
    "        cnt += 1\n",
    "        try :\n",
    "            urlretrieve(src,'./{}/{}.png'.format(keyword,cnt))\n",
    "        except :\n",
    "            print(\"수집불가\")\n",
    "            continue\n",
    "\n",
    "    pre_img_src += img_src # 다운로드한 경로를 이전 리스트에 추가    \n",
    "        \n",
    "    # 화면 스크롤\n",
    "    for i in range(6):\n",
    "        driver.execute_script(\"window.scrollTo(0, document.body.scrollHeight);\")\n",
    "#         driver.find_element_by_css_selector('body').send_keys(Keys.PAGE_DOWN)\n",
    "        time.sleep(1)"
   ]
  },
  {
   "cell_type": "code",
   "execution_count": null,
   "metadata": {},
   "outputs": [],
   "source": []
  }
 ],
 "metadata": {
  "colab": {
   "collapsed_sections": [],
   "name": "ex04_구글 이미지 수집하기 with selenium.ipynb",
   "provenance": []
  },
  "kernelspec": {
   "display_name": "Python 3 (ipykernel)",
   "language": "python",
   "name": "python3"
  },
  "language_info": {
   "codemirror_mode": {
    "name": "ipython",
    "version": 3
   },
   "file_extension": ".py",
   "mimetype": "text/x-python",
   "name": "python",
   "nbconvert_exporter": "python",
   "pygments_lexer": "ipython3",
   "version": "3.9.12"
  },
  "toc": {
   "base_numbering": 1,
   "nav_menu": {},
   "number_sections": true,
   "sideBar": true,
   "skip_h1_title": false,
   "title_cell": "Table of Contents",
   "title_sidebar": "Contents",
   "toc_cell": false,
   "toc_position": {},
   "toc_section_display": true,
   "toc_window_display": false
  }
 },
 "nbformat": 4,
 "nbformat_minor": 1
}
